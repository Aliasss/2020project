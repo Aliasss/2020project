{
 "cells": [
  {
   "cell_type": "code",
   "execution_count": 1,
   "metadata": {},
   "outputs": [],
   "source": [
    "import pandas as pd\n",
    "import numpy as np\n",
    "import matplotlib; matplotlib.rc('font', family='Malgun Gothic')\n",
    "import matplotlib.pyplot as plt\n",
    "import seaborn as sns\n",
    "import missingno as msno\n",
    "import warnings; warnings.filterwarnings('ignore')"
   ]
  },
  {
   "cell_type": "markdown",
   "metadata": {},
   "source": [
    "# 1. 데이터 기초정보 살펴보기"
   ]
  },
  {
   "cell_type": "code",
   "execution_count": 2,
   "metadata": {},
   "outputs": [
    {
     "name": "stdout",
     "output_type": "stream",
     "text": [
      "(2022, 14)\n"
     ]
    },
    {
     "data": {
      "text/html": [
       "<div>\n",
       "<style scoped>\n",
       "    .dataframe tbody tr th:only-of-type {\n",
       "        vertical-align: middle;\n",
       "    }\n",
       "\n",
       "    .dataframe tbody tr th {\n",
       "        vertical-align: top;\n",
       "    }\n",
       "\n",
       "    .dataframe thead th {\n",
       "        text-align: right;\n",
       "    }\n",
       "</style>\n",
       "<table border=\"1\" class=\"dataframe\">\n",
       "  <thead>\n",
       "    <tr style=\"text-align: right;\">\n",
       "      <th></th>\n",
       "      <th>id</th>\n",
       "      <th>sex</th>\n",
       "      <th>birth_year</th>\n",
       "      <th>country</th>\n",
       "      <th>region</th>\n",
       "      <th>group</th>\n",
       "      <th>infection_reason</th>\n",
       "      <th>infection_order</th>\n",
       "      <th>infected_by</th>\n",
       "      <th>contact_number</th>\n",
       "      <th>confirmed_date</th>\n",
       "      <th>released_date</th>\n",
       "      <th>deceased_date</th>\n",
       "      <th>state</th>\n",
       "    </tr>\n",
       "  </thead>\n",
       "  <tbody>\n",
       "    <tr>\n",
       "      <th>0</th>\n",
       "      <td>1</td>\n",
       "      <td>female</td>\n",
       "      <td>1984.0</td>\n",
       "      <td>China</td>\n",
       "      <td>filtered at airport</td>\n",
       "      <td>NaN</td>\n",
       "      <td>visit to Wuhan</td>\n",
       "      <td>1.0</td>\n",
       "      <td>NaN</td>\n",
       "      <td>45.0</td>\n",
       "      <td>2020-01-20</td>\n",
       "      <td>2020-02-06</td>\n",
       "      <td>NaN</td>\n",
       "      <td>released</td>\n",
       "    </tr>\n",
       "    <tr>\n",
       "      <th>1</th>\n",
       "      <td>2</td>\n",
       "      <td>male</td>\n",
       "      <td>1964.0</td>\n",
       "      <td>Korea</td>\n",
       "      <td>filtered at airport</td>\n",
       "      <td>NaN</td>\n",
       "      <td>visit to Wuhan</td>\n",
       "      <td>1.0</td>\n",
       "      <td>NaN</td>\n",
       "      <td>75.0</td>\n",
       "      <td>2020-01-24</td>\n",
       "      <td>2020-02-05</td>\n",
       "      <td>NaN</td>\n",
       "      <td>released</td>\n",
       "    </tr>\n",
       "    <tr>\n",
       "      <th>2</th>\n",
       "      <td>3</td>\n",
       "      <td>male</td>\n",
       "      <td>1966.0</td>\n",
       "      <td>Korea</td>\n",
       "      <td>capital area</td>\n",
       "      <td>NaN</td>\n",
       "      <td>visit to Wuhan</td>\n",
       "      <td>1.0</td>\n",
       "      <td>NaN</td>\n",
       "      <td>16.0</td>\n",
       "      <td>2020-01-26</td>\n",
       "      <td>2020-02-12</td>\n",
       "      <td>NaN</td>\n",
       "      <td>released</td>\n",
       "    </tr>\n",
       "    <tr>\n",
       "      <th>3</th>\n",
       "      <td>4</td>\n",
       "      <td>male</td>\n",
       "      <td>1964.0</td>\n",
       "      <td>Korea</td>\n",
       "      <td>capital area</td>\n",
       "      <td>NaN</td>\n",
       "      <td>visit to Wuhan</td>\n",
       "      <td>1.0</td>\n",
       "      <td>NaN</td>\n",
       "      <td>95.0</td>\n",
       "      <td>2020-01-27</td>\n",
       "      <td>2020-02-09</td>\n",
       "      <td>NaN</td>\n",
       "      <td>released</td>\n",
       "    </tr>\n",
       "    <tr>\n",
       "      <th>4</th>\n",
       "      <td>5</td>\n",
       "      <td>male</td>\n",
       "      <td>1987.0</td>\n",
       "      <td>Korea</td>\n",
       "      <td>capital area</td>\n",
       "      <td>NaN</td>\n",
       "      <td>visit to Wuhan</td>\n",
       "      <td>1.0</td>\n",
       "      <td>NaN</td>\n",
       "      <td>31.0</td>\n",
       "      <td>2020-01-30</td>\n",
       "      <td>NaN</td>\n",
       "      <td>NaN</td>\n",
       "      <td>isolated</td>\n",
       "    </tr>\n",
       "  </tbody>\n",
       "</table>\n",
       "</div>"
      ],
      "text/plain": [
       "   id     sex  birth_year country               region group infection_reason  \\\n",
       "0   1  female      1984.0   China  filtered at airport   NaN   visit to Wuhan   \n",
       "1   2    male      1964.0   Korea  filtered at airport   NaN   visit to Wuhan   \n",
       "2   3    male      1966.0   Korea         capital area   NaN   visit to Wuhan   \n",
       "3   4    male      1964.0   Korea         capital area   NaN   visit to Wuhan   \n",
       "4   5    male      1987.0   Korea         capital area   NaN   visit to Wuhan   \n",
       "\n",
       "   infection_order  infected_by  contact_number confirmed_date released_date  \\\n",
       "0              1.0          NaN            45.0     2020-01-20    2020-02-06   \n",
       "1              1.0          NaN            75.0     2020-01-24    2020-02-05   \n",
       "2              1.0          NaN            16.0     2020-01-26    2020-02-12   \n",
       "3              1.0          NaN            95.0     2020-01-27    2020-02-09   \n",
       "4              1.0          NaN            31.0     2020-01-30           NaN   \n",
       "\n",
       "  deceased_date     state  \n",
       "0           NaN  released  \n",
       "1           NaN  released  \n",
       "2           NaN  released  \n",
       "3           NaN  released  \n",
       "4           NaN  isolated  "
      ]
     },
     "execution_count": 2,
     "metadata": {},
     "output_type": "execute_result"
    }
   ],
   "source": [
    "patient = pd.read_csv('../corona/patient.csv')\n",
    "print(patient.shape)\n",
    "patient.head()"
   ]
  },
  {
   "cell_type": "code",
   "execution_count": 3,
   "metadata": {},
   "outputs": [
    {
     "name": "stdout",
     "output_type": "stream",
     "text": [
      "<class 'pandas.core.frame.DataFrame'>\n",
      "RangeIndex: 2022 entries, 0 to 2021\n",
      "Data columns (total 14 columns):\n",
      " #   Column            Non-Null Count  Dtype  \n",
      "---  ------            --------------  -----  \n",
      " 0   id                2022 non-null   int64  \n",
      " 1   sex               228 non-null    object \n",
      " 2   birth_year        213 non-null    float64\n",
      " 3   country           2022 non-null   object \n",
      " 4   region            217 non-null    object \n",
      " 5   group             61 non-null     object \n",
      " 6   infection_reason  106 non-null    object \n",
      " 7   infection_order   35 non-null     float64\n",
      " 8   infected_by       50 non-null     float64\n",
      " 9   contact_number    32 non-null     float64\n",
      " 10  confirmed_date    2022 non-null   object \n",
      " 11  released_date     27 non-null     object \n",
      " 12  deceased_date     13 non-null     object \n",
      " 13  state             2022 non-null   object \n",
      "dtypes: float64(4), int64(1), object(9)\n",
      "memory usage: 221.3+ KB\n"
     ]
    }
   ],
   "source": [
    "patient.info()"
   ]
  },
  {
   "cell_type": "code",
   "execution_count": 4,
   "metadata": {},
   "outputs": [
    {
     "name": "stdout",
     "output_type": "stream",
     "text": [
      "<class 'pandas.core.frame.DataFrame'>\n",
      "RangeIndex: 2022 entries, 0 to 2021\n",
      "Data columns (total 14 columns):\n",
      " #   Column            Non-Null Count  Dtype  \n",
      "---  ------            --------------  -----  \n",
      " 0   id                2022 non-null   object \n",
      " 1   sex               228 non-null    object \n",
      " 2   birth_year        213 non-null    float64\n",
      " 3   country           2022 non-null   object \n",
      " 4   region            217 non-null    object \n",
      " 5   group             61 non-null     object \n",
      " 6   infection_reason  106 non-null    object \n",
      " 7   infection_order   35 non-null     float64\n",
      " 8   infected_by       50 non-null     float64\n",
      " 9   contact_number    32 non-null     float64\n",
      " 10  confirmed_date    2022 non-null   object \n",
      " 11  released_date     27 non-null     object \n",
      " 12  deceased_date     13 non-null     object \n",
      " 13  state             2022 non-null   object \n",
      "dtypes: float64(4), object(10)\n",
      "memory usage: 221.3+ KB\n"
     ]
    }
   ],
   "source": [
    "# id는 범주형 변수이므로 데이터 타입을 바꾼다\n",
    "patient['id'] = patient['id'].astype(str)\n",
    "patient.info()"
   ]
  },
  {
   "cell_type": "code",
   "execution_count": 5,
   "metadata": {},
   "outputs": [
    {
     "data": {
      "text/plain": [
       "<matplotlib.axes._subplots.AxesSubplot at 0x1aad3548240>"
      ]
     },
     "execution_count": 5,
     "metadata": {},
     "output_type": "execute_result"
    },
    {
     "data": {
      "image/png": "[encoded data removed]",
      "text/plain": [
       "<Figure size 1728x720 with 3 Axes>"
      ]
     },
     "metadata": {
      "needs_background": "light"
     },
     "output_type": "display_data"
    }
   ],
   "source": [
    "msno.bar(patient)"
   ]
  },
  {
   "cell_type": "markdown",
   "metadata": {},
   "source": [
    "- 일단 결측치가 매우 많음  \n",
    "- 전염 원인(infection reason) 컬럼의 결측치도 매우 많은 것으로 보아 전염된 이유(전염 경로)를 확인하지 못한 케이스가 많다고 추측됨  \n",
    "- 그 외의 다른 컬럼들에도 결측치가 많음"
   ]
  },
  {
   "cell_type": "code",
   "execution_count": 6,
   "metadata": {},
   "outputs": [
    {
     "data": {
      "text/html": [
       "<div>\n",
       "<style scoped>\n",
       "    .dataframe tbody tr th:only-of-type {\n",
       "        vertical-align: middle;\n",
       "    }\n",
       "\n",
       "    .dataframe tbody tr th {\n",
       "        vertical-align: top;\n",
       "    }\n",
       "\n",
       "    .dataframe thead th {\n",
       "        text-align: right;\n",
       "    }\n",
       "</style>\n",
       "<table border=\"1\" class=\"dataframe\">\n",
       "  <thead>\n",
       "    <tr style=\"text-align: right;\">\n",
       "      <th></th>\n",
       "      <th>id</th>\n",
       "      <th>sex</th>\n",
       "      <th>birth_year</th>\n",
       "      <th>country</th>\n",
       "      <th>region</th>\n",
       "      <th>group</th>\n",
       "      <th>infection_reason</th>\n",
       "      <th>infection_order</th>\n",
       "      <th>infected_by</th>\n",
       "      <th>contact_number</th>\n",
       "      <th>confirmed_date</th>\n",
       "      <th>released_date</th>\n",
       "      <th>deceased_date</th>\n",
       "      <th>state</th>\n",
       "    </tr>\n",
       "  </thead>\n",
       "  <tbody>\n",
       "    <tr>\n",
       "      <th>count</th>\n",
       "      <td>2022</td>\n",
       "      <td>228</td>\n",
       "      <td>213.000000</td>\n",
       "      <td>2022</td>\n",
       "      <td>217</td>\n",
       "      <td>61</td>\n",
       "      <td>106</td>\n",
       "      <td>35.000000</td>\n",
       "      <td>50.000000</td>\n",
       "      <td>32.000000</td>\n",
       "      <td>2022</td>\n",
       "      <td>27</td>\n",
       "      <td>13</td>\n",
       "      <td>2022</td>\n",
       "    </tr>\n",
       "    <tr>\n",
       "      <th>unique</th>\n",
       "      <td>2022</td>\n",
       "      <td>3</td>\n",
       "      <td>NaN</td>\n",
       "      <td>3</td>\n",
       "      <td>15</td>\n",
       "      <td>6</td>\n",
       "      <td>13</td>\n",
       "      <td>NaN</td>\n",
       "      <td>NaN</td>\n",
       "      <td>NaN</td>\n",
       "      <td>25</td>\n",
       "      <td>15</td>\n",
       "      <td>8</td>\n",
       "      <td>3</td>\n",
       "    </tr>\n",
       "    <tr>\n",
       "      <th>top</th>\n",
       "      <td>1355</td>\n",
       "      <td>female</td>\n",
       "      <td>NaN</td>\n",
       "      <td>Korea</td>\n",
       "      <td>capital area</td>\n",
       "      <td>Shincheonji Church</td>\n",
       "      <td>contact with patient</td>\n",
       "      <td>NaN</td>\n",
       "      <td>NaN</td>\n",
       "      <td>NaN</td>\n",
       "      <td>2020-02-27</td>\n",
       "      <td>2020-02-24</td>\n",
       "      <td>2020-02-23</td>\n",
       "      <td>isolated</td>\n",
       "    </tr>\n",
       "    <tr>\n",
       "      <th>freq</th>\n",
       "      <td>1</td>\n",
       "      <td>120</td>\n",
       "      <td>NaN</td>\n",
       "      <td>2013</td>\n",
       "      <td>65</td>\n",
       "      <td>37</td>\n",
       "      <td>48</td>\n",
       "      <td>NaN</td>\n",
       "      <td>NaN</td>\n",
       "      <td>NaN</td>\n",
       "      <td>505</td>\n",
       "      <td>4</td>\n",
       "      <td>4</td>\n",
       "      <td>1982</td>\n",
       "    </tr>\n",
       "    <tr>\n",
       "      <th>mean</th>\n",
       "      <td>NaN</td>\n",
       "      <td>NaN</td>\n",
       "      <td>1972.079812</td>\n",
       "      <td>NaN</td>\n",
       "      <td>NaN</td>\n",
       "      <td>NaN</td>\n",
       "      <td>NaN</td>\n",
       "      <td>2.257143</td>\n",
       "      <td>156.520000</td>\n",
       "      <td>96.843750</td>\n",
       "      <td>NaN</td>\n",
       "      <td>NaN</td>\n",
       "      <td>NaN</td>\n",
       "      <td>NaN</td>\n",
       "    </tr>\n",
       "    <tr>\n",
       "      <th>std</th>\n",
       "      <td>NaN</td>\n",
       "      <td>NaN</td>\n",
       "      <td>16.400305</td>\n",
       "      <td>NaN</td>\n",
       "      <td>NaN</td>\n",
       "      <td>NaN</td>\n",
       "      <td>NaN</td>\n",
       "      <td>1.357828</td>\n",
       "      <td>213.510525</td>\n",
       "      <td>224.669522</td>\n",
       "      <td>NaN</td>\n",
       "      <td>NaN</td>\n",
       "      <td>NaN</td>\n",
       "      <td>NaN</td>\n",
       "    </tr>\n",
       "    <tr>\n",
       "      <th>min</th>\n",
       "      <td>NaN</td>\n",
       "      <td>NaN</td>\n",
       "      <td>1938.000000</td>\n",
       "      <td>NaN</td>\n",
       "      <td>NaN</td>\n",
       "      <td>NaN</td>\n",
       "      <td>NaN</td>\n",
       "      <td>1.000000</td>\n",
       "      <td>3.000000</td>\n",
       "      <td>0.000000</td>\n",
       "      <td>NaN</td>\n",
       "      <td>NaN</td>\n",
       "      <td>NaN</td>\n",
       "      <td>NaN</td>\n",
       "    </tr>\n",
       "    <tr>\n",
       "      <th>25%</th>\n",
       "      <td>NaN</td>\n",
       "      <td>NaN</td>\n",
       "      <td>1960.000000</td>\n",
       "      <td>NaN</td>\n",
       "      <td>NaN</td>\n",
       "      <td>NaN</td>\n",
       "      <td>NaN</td>\n",
       "      <td>1.000000</td>\n",
       "      <td>21.750000</td>\n",
       "      <td>2.750000</td>\n",
       "      <td>NaN</td>\n",
       "      <td>NaN</td>\n",
       "      <td>NaN</td>\n",
       "      <td>NaN</td>\n",
       "    </tr>\n",
       "    <tr>\n",
       "      <th>50%</th>\n",
       "      <td>NaN</td>\n",
       "      <td>NaN</td>\n",
       "      <td>1970.000000</td>\n",
       "      <td>NaN</td>\n",
       "      <td>NaN</td>\n",
       "      <td>NaN</td>\n",
       "      <td>NaN</td>\n",
       "      <td>2.000000</td>\n",
       "      <td>35.500000</td>\n",
       "      <td>16.500000</td>\n",
       "      <td>NaN</td>\n",
       "      <td>NaN</td>\n",
       "      <td>NaN</td>\n",
       "      <td>NaN</td>\n",
       "    </tr>\n",
       "    <tr>\n",
       "      <th>75%</th>\n",
       "      <td>NaN</td>\n",
       "      <td>NaN</td>\n",
       "      <td>1985.000000</td>\n",
       "      <td>NaN</td>\n",
       "      <td>NaN</td>\n",
       "      <td>NaN</td>\n",
       "      <td>NaN</td>\n",
       "      <td>3.000000</td>\n",
       "      <td>230.000000</td>\n",
       "      <td>69.750000</td>\n",
       "      <td>NaN</td>\n",
       "      <td>NaN</td>\n",
       "      <td>NaN</td>\n",
       "      <td>NaN</td>\n",
       "    </tr>\n",
       "    <tr>\n",
       "      <th>max</th>\n",
       "      <td>NaN</td>\n",
       "      <td>NaN</td>\n",
       "      <td>2009.000000</td>\n",
       "      <td>NaN</td>\n",
       "      <td>NaN</td>\n",
       "      <td>NaN</td>\n",
       "      <td>NaN</td>\n",
       "      <td>6.000000</td>\n",
       "      <td>834.000000</td>\n",
       "      <td>1160.000000</td>\n",
       "      <td>NaN</td>\n",
       "      <td>NaN</td>\n",
       "      <td>NaN</td>\n",
       "      <td>NaN</td>\n",
       "    </tr>\n",
       "  </tbody>\n",
       "</table>\n",
       "</div>"
      ],
      "text/plain": [
       "          id     sex   birth_year country        region               group  \\\n",
       "count   2022     228   213.000000    2022           217                  61   \n",
       "unique  2022       3          NaN       3            15                   6   \n",
       "top     1355  female          NaN   Korea  capital area  Shincheonji Church   \n",
       "freq       1     120          NaN    2013            65                  37   \n",
       "mean     NaN     NaN  1972.079812     NaN           NaN                 NaN   \n",
       "std      NaN     NaN    16.400305     NaN           NaN                 NaN   \n",
       "min      NaN     NaN  1938.000000     NaN           NaN                 NaN   \n",
       "25%      NaN     NaN  1960.000000     NaN           NaN                 NaN   \n",
       "50%      NaN     NaN  1970.000000     NaN           NaN                 NaN   \n",
       "75%      NaN     NaN  1985.000000     NaN           NaN                 NaN   \n",
       "max      NaN     NaN  2009.000000     NaN           NaN                 NaN   \n",
       "\n",
       "            infection_reason  infection_order  infected_by  contact_number  \\\n",
       "count                    106        35.000000    50.000000       32.000000   \n",
       "unique                    13              NaN          NaN             NaN   \n",
       "top     contact with patient              NaN          NaN             NaN   \n",
       "freq                      48              NaN          NaN             NaN   \n",
       "mean                     NaN         2.257143   156.520000       96.843750   \n",
       "std                      NaN         1.357828   213.510525      224.669522   \n",
       "min                      NaN         1.000000     3.000000        0.000000   \n",
       "25%                      NaN         1.000000    21.750000        2.750000   \n",
       "50%                      NaN         2.000000    35.500000       16.500000   \n",
       "75%                      NaN         3.000000   230.000000       69.750000   \n",
       "max                      NaN         6.000000   834.000000     1160.000000   \n",
       "\n",
       "       confirmed_date released_date deceased_date     state  \n",
       "count            2022            27            13      2022  \n",
       "unique             25            15             8         3  \n",
       "top        2020-02-27    2020-02-24    2020-02-23  isolated  \n",
       "freq              505             4             4      1982  \n",
       "mean              NaN           NaN           NaN       NaN  \n",
       "std               NaN           NaN           NaN       NaN  \n",
       "min               NaN           NaN           NaN       NaN  \n",
       "25%               NaN           NaN           NaN       NaN  \n",
       "50%               NaN           NaN           NaN       NaN  \n",
       "75%               NaN           NaN           NaN       NaN  \n",
       "max               NaN           NaN           NaN       NaN  "
      ]
     },
     "execution_count": 6,
     "metadata": {},
     "output_type": "execute_result"
    }
   ],
   "source": [
    "patient.describe(include='all')"
   ]
  },
  {
   "cell_type": "markdown",
   "metadata": {},
   "source": [
    "# 2. 탐색 & 전처리"
   ]
  },
  {
   "cell_type": "markdown",
   "metadata": {},
   "source": [
    "## 먼저 각 컬럼들을 살펴보자"
   ]
  },
  {
   "cell_type": "markdown",
   "metadata": {},
   "source": [
    "### sex"
   ]
  },
  {
   "cell_type": "code",
   "execution_count": 7,
   "metadata": {},
   "outputs": [
    {
     "name": "stdout",
     "output_type": "stream",
     "text": [
      "female     120\n",
      "male       107\n",
      "female       1\n",
      "Name: sex, dtype: int64\n"
     ]
    },
    {
     "data": {
      "text/plain": [
       "<matplotlib.axes._subplots.AxesSubplot at 0x1aaddb09588>"
      ]
     },
     "execution_count": 7,
     "metadata": {},
     "output_type": "execute_result"
    },
    {
     "data": {
      "image/png": "[encoded data removed]",
      "text/plain": [
       "<Figure size 432x288 with 1 Axes>"
      ]
     },
     "metadata": {
      "needs_background": "light"
     },
     "output_type": "display_data"
    }
   ],
   "source": [
    "print(patient.sex.value_counts())\n",
    "patient['sex'].value_counts().plot.bar()"
   ]
  },
  {
   "cell_type": "markdown",
   "metadata": {},
   "source": [
    "female 한 명이 따로 분리돼있다. 아마 단어 끝에 띄어쓰기가 들어가서 다른 값으로 분류된 것 같다. 이를 하나로 합친다"
   ]
  },
  {
   "cell_type": "code",
   "execution_count": 10,
   "metadata": {},
   "outputs": [
    {
     "data": {
      "text/plain": [
       "female    121\n",
       "male      107\n",
       "Name: sex, dtype: int64"
      ]
     },
     "execution_count": 10,
     "metadata": {},
     "output_type": "execute_result"
    }
   ],
   "source": [
    "def sex_clean(df):\n",
    "    if pd.isnull(df):\n",
    "        return np.nan\n",
    "    if 'female' in df:\n",
    "        return 'female'\n",
    "    else:\n",
    "        return df\n",
    "    \n",
    "patient['sex'] = patient['sex'].apply(sex_clean)\n",
    "patient['sex'].value_counts()"
   ]
  },
  {
   "cell_type": "markdown",
   "metadata": {},
   "source": [
    "### birth_year"
   ]
  },
  {
   "cell_type": "code",
   "execution_count": 11,
   "metadata": {},
   "outputs": [
    {
     "data": {
      "text/plain": [
       "1963.0    8\n",
       "1968.0    8\n",
       "1962.0    7\n",
       "1965.0    7\n",
       "1957.0    7\n",
       "         ..\n",
       "1969.0    1\n",
       "1967.0    1\n",
       "2001.0    1\n",
       "1950.0    1\n",
       "1949.0    1\n",
       "Name: birth_year, Length: 62, dtype: int64"
      ]
     },
     "execution_count": 11,
     "metadata": {},
     "output_type": "execute_result"
    }
   ],
   "source": [
    "patient['birth_year'].value_counts()"
   ]
  },
  {
   "cell_type": "markdown",
   "metadata": {},
   "source": [
    "연도 뒤에 .0이 붙어있다"
   ]
  },
  {
   "cell_type": "code",
   "execution_count": 12,
   "metadata": {},
   "outputs": [
    {
     "data": {
      "text/html": [
       "<div>\n",
       "<style scoped>\n",
       "    .dataframe tbody tr th:only-of-type {\n",
       "        vertical-align: middle;\n",
       "    }\n",
       "\n",
       "    .dataframe tbody tr th {\n",
       "        vertical-align: top;\n",
       "    }\n",
       "\n",
       "    .dataframe thead th {\n",
       "        text-align: right;\n",
       "    }\n",
       "</style>\n",
       "<table border=\"1\" class=\"dataframe\">\n",
       "  <thead>\n",
       "    <tr style=\"text-align: right;\">\n",
       "      <th></th>\n",
       "      <th>id</th>\n",
       "      <th>sex</th>\n",
       "      <th>birth_year</th>\n",
       "      <th>country</th>\n",
       "      <th>region</th>\n",
       "      <th>group</th>\n",
       "      <th>infection_reason</th>\n",
       "      <th>infection_order</th>\n",
       "      <th>infected_by</th>\n",
       "      <th>contact_number</th>\n",
       "      <th>confirmed_date</th>\n",
       "      <th>released_date</th>\n",
       "      <th>deceased_date</th>\n",
       "      <th>state</th>\n",
       "    </tr>\n",
       "  </thead>\n",
       "  <tbody>\n",
       "    <tr>\n",
       "      <th>0</th>\n",
       "      <td>1</td>\n",
       "      <td>female</td>\n",
       "      <td>1984</td>\n",
       "      <td>China</td>\n",
       "      <td>filtered at airport</td>\n",
       "      <td>NaN</td>\n",
       "      <td>visit to Wuhan</td>\n",
       "      <td>1.0</td>\n",
       "      <td>NaN</td>\n",
       "      <td>45.0</td>\n",
       "      <td>2020-01-20</td>\n",
       "      <td>2020-02-06</td>\n",
       "      <td>NaN</td>\n",
       "      <td>released</td>\n",
       "    </tr>\n",
       "    <tr>\n",
       "      <th>1</th>\n",
       "      <td>2</td>\n",
       "      <td>male</td>\n",
       "      <td>1964</td>\n",
       "      <td>Korea</td>\n",
       "      <td>filtered at airport</td>\n",
       "      <td>NaN</td>\n",
       "      <td>visit to Wuhan</td>\n",
       "      <td>1.0</td>\n",
       "      <td>NaN</td>\n",
       "      <td>75.0</td>\n",
       "      <td>2020-01-24</td>\n",
       "      <td>2020-02-05</td>\n",
       "      <td>NaN</td>\n",
       "      <td>released</td>\n",
       "    </tr>\n",
       "    <tr>\n",
       "      <th>2</th>\n",
       "      <td>3</td>\n",
       "      <td>male</td>\n",
       "      <td>1966</td>\n",
       "      <td>Korea</td>\n",
       "      <td>capital area</td>\n",
       "      <td>NaN</td>\n",
       "      <td>visit to Wuhan</td>\n",
       "      <td>1.0</td>\n",
       "      <td>NaN</td>\n",
       "      <td>16.0</td>\n",
       "      <td>2020-01-26</td>\n",
       "      <td>2020-02-12</td>\n",
       "      <td>NaN</td>\n",
       "      <td>released</td>\n",
       "    </tr>\n",
       "  </tbody>\n",
       "</table>\n",
       "</div>"
      ],
      "text/plain": [
       "  id     sex birth_year country               region group infection_reason  \\\n",
       "0  1  female       1984   China  filtered at airport   NaN   visit to Wuhan   \n",
       "1  2    male       1964   Korea  filtered at airport   NaN   visit to Wuhan   \n",
       "2  3    male       1966   Korea         capital area   NaN   visit to Wuhan   \n",
       "\n",
       "   infection_order  infected_by  contact_number confirmed_date released_date  \\\n",
       "0              1.0          NaN            45.0     2020-01-20    2020-02-06   \n",
       "1              1.0          NaN            75.0     2020-01-24    2020-02-05   \n",
       "2              1.0          NaN            16.0     2020-01-26    2020-02-12   \n",
       "\n",
       "  deceased_date     state  \n",
       "0           NaN  released  \n",
       "1           NaN  released  \n",
       "2           NaN  released  "
      ]
     },
     "execution_count": 12,
     "metadata": {},
     "output_type": "execute_result"
    }
   ],
   "source": [
    "def birth_year_clean(df):\n",
    "    return str(df).split('.')[0]\n",
    "\n",
    "patient['birth_year'] = patient['birth_year'].apply(birth_year_clean)\n",
    "patient.head(3)"
   ]
  },
  {
   "cell_type": "code",
   "execution_count": 13,
   "metadata": {},
   "outputs": [
    {
     "data": {
      "text/plain": [
       "id                   object\n",
       "sex                  object\n",
       "birth_year          float64\n",
       "country              object\n",
       "region               object\n",
       "group                object\n",
       "infection_reason     object\n",
       "infection_order     float64\n",
       "infected_by         float64\n",
       "contact_number      float64\n",
       "confirmed_date       object\n",
       "released_date        object\n",
       "deceased_date        object\n",
       "state                object\n",
       "dtype: object"
      ]
     },
     "execution_count": 13,
     "metadata": {},
     "output_type": "execute_result"
    }
   ],
   "source": [
    "# 객체로 변환된 값들을 다시 float형으로 바꿔준다\n",
    "patient['birth_year'] = patient['birth_year'].astype(float)\n",
    "patient.dtypes"
   ]
  },
  {
   "cell_type": "markdown",
   "metadata": {},
   "source": [
    "### country & region"
   ]
  },
  {
   "cell_type": "code",
   "execution_count": 14,
   "metadata": {},
   "outputs": [
    {
     "name": "stdout",
     "output_type": "stream",
     "text": [
      "False\n",
      "True\n"
     ]
    },
    {
     "data": {
      "text/html": [
       "<div>\n",
       "<style scoped>\n",
       "    .dataframe tbody tr th:only-of-type {\n",
       "        vertical-align: middle;\n",
       "    }\n",
       "\n",
       "    .dataframe tbody tr th {\n",
       "        vertical-align: top;\n",
       "    }\n",
       "\n",
       "    .dataframe thead th {\n",
       "        text-align: right;\n",
       "    }\n",
       "</style>\n",
       "<table border=\"1\" class=\"dataframe\">\n",
       "  <thead>\n",
       "    <tr style=\"text-align: right;\">\n",
       "      <th></th>\n",
       "      <th>country</th>\n",
       "      <th>region</th>\n",
       "    </tr>\n",
       "  </thead>\n",
       "  <tbody>\n",
       "    <tr>\n",
       "      <th>0</th>\n",
       "      <td>China</td>\n",
       "      <td>filtered at airport</td>\n",
       "    </tr>\n",
       "    <tr>\n",
       "      <th>1</th>\n",
       "      <td>Korea</td>\n",
       "      <td>filtered at airport</td>\n",
       "    </tr>\n",
       "    <tr>\n",
       "      <th>2</th>\n",
       "      <td>Korea</td>\n",
       "      <td>capital area</td>\n",
       "    </tr>\n",
       "    <tr>\n",
       "      <th>3</th>\n",
       "      <td>Korea</td>\n",
       "      <td>capital area</td>\n",
       "    </tr>\n",
       "    <tr>\n",
       "      <th>4</th>\n",
       "      <td>Korea</td>\n",
       "      <td>capital area</td>\n",
       "    </tr>\n",
       "  </tbody>\n",
       "</table>\n",
       "</div>"
      ],
      "text/plain": [
       "  country               region\n",
       "0   China  filtered at airport\n",
       "1   Korea  filtered at airport\n",
       "2   Korea         capital area\n",
       "3   Korea         capital area\n",
       "4   Korea         capital area"
      ]
     },
     "execution_count": 14,
     "metadata": {},
     "output_type": "execute_result"
    }
   ],
   "source": [
    "print(patient['country'].isnull().any())\n",
    "print(patient['region'].isnull().any())\n",
    "patient[['country', 'region']].head()"
   ]
  },
  {
   "cell_type": "code",
   "execution_count": 15,
   "metadata": {},
   "outputs": [
    {
     "name": "stdout",
     "output_type": "stream",
     "text": [
      "Korea       2013\n",
      "China          8\n",
      "Mongolia       1\n",
      "Name: country, dtype: int64\n",
      "capital area           65\n",
      "Gyeongsangbuk-do       55\n",
      "Gyungsangbuk-do        30\n",
      "Daegu                  30\n",
      "Gwangju                10\n",
      "Gangwon-do              5\n",
      "filtered at airport     4\n",
      "Daejon                  3\n",
      "Daejeon                 3\n",
      "Jeollabuk-do            3\n",
      "Ulsan                   2\n",
      "Busan                   2\n",
      "Chungcheongnam-do       2\n",
      "Chungcheongbuk-do       2\n",
      "capital city            1\n",
      "Name: region, dtype: int64\n"
     ]
    }
   ],
   "source": [
    "print(patient['country'].value_counts())\n",
    "print(patient['region'].value_counts())"
   ]
  },
  {
   "cell_type": "markdown",
   "metadata": {},
   "source": [
    "- region 컬럼의 경상북도가 'Gyeongsangbuk-do', 'gyungsangbuk-do' 두 개로 나눠져 있다. 같은 컬럼이므로 하나로 합친다(Gyeongbuk)  \n",
    "- Gangwon-do를 Gangwon으로  \n",
    "- Jeollabuk-do를 Jeonbuk으로  \n",
    "- Daejeon, Daejon을 Daejeon 하나로  \n",
    "- Chungcheongnam-do와 Chungcheongbuk-do를 하나로 합쳐 Chungcheong으로  \n",
    "- Capital city를 Capital로"
   ]
  },
  {
   "cell_type": "code",
   "execution_count": 16,
   "metadata": {},
   "outputs": [
    {
     "data": {
      "text/plain": [
       "Gyeongbuk              85\n",
       "Capital                66\n",
       "Daegu                  30\n",
       "Gwangju                10\n",
       "Daejeon                 6\n",
       "Gangwon                 5\n",
       "filtered at airport     4\n",
       "Chungcheong             4\n",
       "Jeonbuk                 3\n",
       "Ulsan                   2\n",
       "Busan                   2\n",
       "Name: region, dtype: int64"
      ]
     },
     "execution_count": 16,
     "metadata": {},
     "output_type": "execute_result"
    }
   ],
   "source": [
    "def region_clean(df):\n",
    "    if pd.isnull(df):\n",
    "        return np.nan\n",
    "    else:\n",
    "        return df.replace('Gyeongsangbuk-do', 'Gyeongbuk').replace('Gyungsangbuk-do', 'Gyeongbuk').\\\n",
    "    replace('Gangwon-do', 'Gangwon').replace('Jeollabuk-do', 'Jeonbuk').replace('Daejon', 'Daejeon').\\\n",
    "    replace('Chungcheongnam-do', 'Chungcheong').replace('Chungcheongbuk-do', 'Chungcheong').replace('capital city', 'Capital').\\\n",
    "    replace('capital area', 'Capital')\n",
    "    \n",
    "patient['region'] = patient['region'].apply(region_clean)\n",
    "patient['region'].value_counts()"
   ]
  },
  {
   "cell_type": "markdown",
   "metadata": {},
   "source": [
    "### group, infection_reason, state"
   ]
  },
  {
   "cell_type": "code",
   "execution_count": 18,
   "metadata": {},
   "outputs": [
    {
     "name": "stdout",
     "output_type": "stream",
     "text": [
      "Shincheonji Church          37\n",
      "Cheongdo Daenam Hospital     9\n",
      "Shinchunji church            7\n",
      "Pilgrimage                   6\n",
      "Myungsung church             1\n",
      "Onchun Church                1\n",
      "Name: group, dtype: int64\n",
      "----------\n",
      "contact with patient                 48\n",
      "visit to Daegu                       32\n",
      "visit to Wuhan                        8\n",
      "pilgrimage to Israel                  6\n",
      "contact with the patient              2\n",
      "contact with patient in Singapore     2\n",
      "residence in Wuhan                    2\n",
      "visit to China                        1\n",
      "contact with patient in Japan         1\n",
      "ccontact with patient                 1\n",
      "visit to Cheongdo Daenam Hospital     1\n",
      "visit to Vietnam                      1\n",
      "visit to Thailand                     1\n",
      "Name: infection_reason, dtype: int64\n",
      "----------\n",
      "isolated    1982\n",
      "released      27\n",
      "deceased      13\n",
      "Name: state, dtype: int64\n"
     ]
    }
   ],
   "source": [
    "print(patient['group'].value_counts()); print('----------')\n",
    "print(patient['infection_reason'].value_counts()); print('----------')\n",
    "print(patient['state'].value_counts())"
   ]
  },
  {
   "cell_type": "markdown",
   "metadata": {},
   "source": [
    "### confirmed_date, released_date, deceased_date"
   ]
  },
  {
   "cell_type": "code",
   "execution_count": 23,
   "metadata": {},
   "outputs": [
    {
     "data": {
      "text/plain": [
       "<matplotlib.axes._subplots.AxesSubplot at 0x1aaddeb5cc0>"
      ]
     },
     "execution_count": 23,
     "metadata": {},
     "output_type": "execute_result"
    },
    {
     "data": {
      "image/png": "[encoded data removed]",
      "text/plain": [
       "<Figure size 1728x720 with 3 Axes>"
      ]
     },
     "metadata": {},
     "output_type": "display_data"
    }
   ],
   "source": [
    "msno.bar(patient[['confirmed_date', 'released_date', 'deceased_date']],\n",
    "        fontsize=30)"
   ]
  },
  {
   "cell_type": "markdown",
   "metadata": {},
   "source": [
    "released_date와 deceased_date에는 결측치가 많다  \n",
    "confirmed_date를 위주로 봐야할 것 같다"
   ]
  },
  {
   "cell_type": "markdown",
   "metadata": {},
   "source": [
    "먼저, int타입으로 되어있는 date 컬럼들을 datetime타입으로 바꾼다"
   ]
  },
  {
   "cell_type": "code",
   "execution_count": 24,
   "metadata": {},
   "outputs": [
    {
     "data": {
      "text/plain": [
       "id                          object\n",
       "sex                         object\n",
       "birth_year                 float64\n",
       "country                     object\n",
       "region                      object\n",
       "group                       object\n",
       "infection_reason            object\n",
       "infection_order            float64\n",
       "infected_by                float64\n",
       "contact_number             float64\n",
       "confirmed_date      datetime64[ns]\n",
       "released_date       datetime64[ns]\n",
       "deceased_date       datetime64[ns]\n",
       "state                       object\n",
       "dtype: object"
      ]
     },
     "execution_count": 24,
     "metadata": {},
     "output_type": "execute_result"
    }
   ],
   "source": [
    "patient['confirmed_date'] = pd.to_datetime(patient['confirmed_date'])\n",
    "patient['released_date'] = pd.to_datetime(patient['released_date'])\n",
    "patient['deceased_date'] = pd.to_datetime(patient['deceased_date'])\n",
    "patient.dtypes"
   ]
  },
  {
   "cell_type": "markdown",
   "metadata": {},
   "source": [
    "## 일별 확진자 추이를 그려보자"
   ]
  },
  {
   "cell_type": "markdown",
   "metadata": {},
   "source": [
    "퇴원한 사람, 사망자 추이를 제외하는 건 현재 캐글 데이터의 해당 피처들에 결측치가 많기 때문에 정보가 부정확하다고 판단했기 때문.  \n",
    "추후 데이터를 직접 수집하고 업데이트해 다시 확인할 예정임"
   ]
  },
  {
   "cell_type": "code",
   "execution_count": 25,
   "metadata": {},
   "outputs": [
    {
     "data": {
      "text/plain": [
       "2022"
      ]
     },
     "execution_count": 25,
     "metadata": {},
     "output_type": "execute_result"
    }
   ],
   "source": [
    "len(patient['id'].unique())"
   ]
  },
  {
   "cell_type": "markdown",
   "metadata": {},
   "source": [
    "id컬럼에는 중복값이 없다.  \n",
    "이를 확인하는 이유는 아래 피봇테이블에서 써먹을 것이기 때문."
   ]
  },
  {
   "cell_type": "code",
   "execution_count": 26,
   "metadata": {},
   "outputs": [
    {
     "data": {
      "text/html": [
       "<div>\n",
       "<style scoped>\n",
       "    .dataframe tbody tr th:only-of-type {\n",
       "        vertical-align: middle;\n",
       "    }\n",
       "\n",
       "    .dataframe tbody tr th {\n",
       "        vertical-align: top;\n",
       "    }\n",
       "\n",
       "    .dataframe thead th {\n",
       "        text-align: right;\n",
       "    }\n",
       "</style>\n",
       "<table border=\"1\" class=\"dataframe\">\n",
       "  <thead>\n",
       "    <tr style=\"text-align: right;\">\n",
       "      <th></th>\n",
       "      <th>id</th>\n",
       "    </tr>\n",
       "    <tr>\n",
       "      <th>confirmed_date</th>\n",
       "      <th></th>\n",
       "    </tr>\n",
       "  </thead>\n",
       "  <tbody>\n",
       "    <tr>\n",
       "      <th>2020-01-20</th>\n",
       "      <td>1</td>\n",
       "    </tr>\n",
       "    <tr>\n",
       "      <th>2020-01-24</th>\n",
       "      <td>1</td>\n",
       "    </tr>\n",
       "    <tr>\n",
       "      <th>2020-01-26</th>\n",
       "      <td>1</td>\n",
       "    </tr>\n",
       "    <tr>\n",
       "      <th>2020-01-27</th>\n",
       "      <td>1</td>\n",
       "    </tr>\n",
       "    <tr>\n",
       "      <th>2020-01-30</th>\n",
       "      <td>3</td>\n",
       "    </tr>\n",
       "    <tr>\n",
       "      <th>2020-01-31</th>\n",
       "      <td>4</td>\n",
       "    </tr>\n",
       "    <tr>\n",
       "      <th>2020-02-01</th>\n",
       "      <td>1</td>\n",
       "    </tr>\n",
       "    <tr>\n",
       "      <th>2020-02-02</th>\n",
       "      <td>3</td>\n",
       "    </tr>\n",
       "    <tr>\n",
       "      <th>2020-02-04</th>\n",
       "      <td>1</td>\n",
       "    </tr>\n",
       "    <tr>\n",
       "      <th>2020-02-05</th>\n",
       "      <td>5</td>\n",
       "    </tr>\n",
       "    <tr>\n",
       "      <th>2020-02-06</th>\n",
       "      <td>3</td>\n",
       "    </tr>\n",
       "    <tr>\n",
       "      <th>2020-02-09</th>\n",
       "      <td>3</td>\n",
       "    </tr>\n",
       "    <tr>\n",
       "      <th>2020-02-10</th>\n",
       "      <td>1</td>\n",
       "    </tr>\n",
       "    <tr>\n",
       "      <th>2020-02-16</th>\n",
       "      <td>2</td>\n",
       "    </tr>\n",
       "    <tr>\n",
       "      <th>2020-02-18</th>\n",
       "      <td>9</td>\n",
       "    </tr>\n",
       "    <tr>\n",
       "      <th>2020-02-19</th>\n",
       "      <td>26</td>\n",
       "    </tr>\n",
       "    <tr>\n",
       "      <th>2020-02-20</th>\n",
       "      <td>39</td>\n",
       "    </tr>\n",
       "    <tr>\n",
       "      <th>2020-02-21</th>\n",
       "      <td>100</td>\n",
       "    </tr>\n",
       "    <tr>\n",
       "      <th>2020-02-22</th>\n",
       "      <td>229</td>\n",
       "    </tr>\n",
       "    <tr>\n",
       "      <th>2020-02-23</th>\n",
       "      <td>169</td>\n",
       "    </tr>\n",
       "    <tr>\n",
       "      <th>2020-02-24</th>\n",
       "      <td>231</td>\n",
       "    </tr>\n",
       "    <tr>\n",
       "      <th>2020-02-25</th>\n",
       "      <td>143</td>\n",
       "    </tr>\n",
       "    <tr>\n",
       "      <th>2020-02-26</th>\n",
       "      <td>285</td>\n",
       "    </tr>\n",
       "    <tr>\n",
       "      <th>2020-02-27</th>\n",
       "      <td>505</td>\n",
       "    </tr>\n",
       "    <tr>\n",
       "      <th>2020-02-28</th>\n",
       "      <td>256</td>\n",
       "    </tr>\n",
       "  </tbody>\n",
       "</table>\n",
       "</div>"
      ],
      "text/plain": [
       "                 id\n",
       "confirmed_date     \n",
       "2020-01-20        1\n",
       "2020-01-24        1\n",
       "2020-01-26        1\n",
       "2020-01-27        1\n",
       "2020-01-30        3\n",
       "2020-01-31        4\n",
       "2020-02-01        1\n",
       "2020-02-02        3\n",
       "2020-02-04        1\n",
       "2020-02-05        5\n",
       "2020-02-06        3\n",
       "2020-02-09        3\n",
       "2020-02-10        1\n",
       "2020-02-16        2\n",
       "2020-02-18        9\n",
       "2020-02-19       26\n",
       "2020-02-20       39\n",
       "2020-02-21      100\n",
       "2020-02-22      229\n",
       "2020-02-23      169\n",
       "2020-02-24      231\n",
       "2020-02-25      143\n",
       "2020-02-26      285\n",
       "2020-02-27      505\n",
       "2020-02-28      256"
      ]
     },
     "execution_count": 26,
     "metadata": {},
     "output_type": "execute_result"
    }
   ],
   "source": [
    "confirmed = pd.pivot_table(data=patient, \n",
    "                          index='confirmed_date',\n",
    "                          values='id',\n",
    "                          aggfunc='count')\n",
    "confirmed"
   ]
  },
  {
   "cell_type": "markdown",
   "metadata": {},
   "source": [
    "1월 20일부터 2월 28일까지의 확진자 추이는 다음과 같다"
   ]
  },
  {
   "cell_type": "code",
   "execution_count": 29,
   "metadata": {},
   "outputs": [
    {
     "data": {
      "text/plain": [
       "Text(0.5, 1.0, '1/20~2/28 국내 확진자 추이')"
      ]
     },
     "execution_count": 29,
     "metadata": {},
     "output_type": "execute_result"
    },
    {
     "data": {
      "image/png": "[encoded data removed]",
      "text/plain": [
       "<Figure size 1296x720 with 1 Axes>"
      ]
     },
     "metadata": {},
     "output_type": "display_data"
    }
   ],
   "source": [
    "sns.set(font_scale=1.4)\n",
    "plt.rc('font', family='Malgun Gothic')\n",
    "confirmed.plot(color='g', figsize=(18, 10))\n",
    "plt.title('1/20~2/28 국내 확진자 추이')"
   ]
  },
  {
   "cell_type": "code",
   "execution_count": 35,
   "metadata": {},
   "outputs": [
    {
     "data": {
      "text/plain": [
       "<matplotlib.axes._subplots.AxesSubplot at 0x1aae0442cc0>"
      ]
     },
     "execution_count": 35,
     "metadata": {},
     "output_type": "execute_result"
    },
    {
     "data": {
      "image/png": "[encoded data removed]",
      "text/plain": [
       "<Figure size 1296x720 with 1 Axes>"
      ]
     },
     "metadata": {},
     "output_type": "display_data"
    }
   ],
   "source": [
    "plt.figure(figsize=(18,10))\n",
    "sns.pointplot(data=confirmed.reset_index(), x=np.arange(len(confirmed.reset_index()['confirmed_date'])), y='id')"
   ]
  },
  {
   "cell_type": "markdown",
   "metadata": {},
   "source": [
    "확진자 분포는 어떨까?"
   ]
  },
  {
   "cell_type": "code",
   "execution_count": 38,
   "metadata": {},
   "outputs": [
    {
     "data": {
      "text/plain": [
       "Text(0.5, 1.0, '확진자 분포')"
      ]
     },
     "execution_count": 38,
     "metadata": {},
     "output_type": "execute_result"
    },
    {
     "data": {
      "image/png": "[encoded data removed]",
      "text/plain": [
       "<Figure size 1296x720 with 1 Axes>"
      ]
     },
     "metadata": {},
     "output_type": "display_data"
    }
   ],
   "source": [
    "plt.figure(figsize=(18,10))\n",
    "sns.distplot(confirmed, bins=3, hist=False)\n",
    "plt.title('확진자 분포')"
   ]
  },
  {
   "cell_type": "markdown",
   "metadata": {},
   "source": [
    "## 컬럼 순서 정리"
   ]
  },
  {
   "cell_type": "markdown",
   "metadata": {},
   "source": [
    "분석에 주로 쓸 컬럼들을 앞쪽으로 뺀다"
   ]
  },
  {
   "cell_type": "code",
   "execution_count": 39,
   "metadata": {},
   "outputs": [
    {
     "data": {
      "text/html": [
       "<div>\n",
       "<style scoped>\n",
       "    .dataframe tbody tr th:only-of-type {\n",
       "        vertical-align: middle;\n",
       "    }\n",
       "\n",
       "    .dataframe tbody tr th {\n",
       "        vertical-align: top;\n",
       "    }\n",
       "\n",
       "    .dataframe thead th {\n",
       "        text-align: right;\n",
       "    }\n",
       "</style>\n",
       "<table border=\"1\" class=\"dataframe\">\n",
       "  <thead>\n",
       "    <tr style=\"text-align: right;\">\n",
       "      <th></th>\n",
       "      <th>id</th>\n",
       "      <th>sex</th>\n",
       "      <th>country</th>\n",
       "      <th>region</th>\n",
       "      <th>birth_year</th>\n",
       "      <th>state</th>\n",
       "      <th>confirmed_date</th>\n",
       "      <th>released_date</th>\n",
       "      <th>deceased_date</th>\n",
       "      <th>infection_reason</th>\n",
       "      <th>contact_number</th>\n",
       "      <th>group</th>\n",
       "      <th>infected_by</th>\n",
       "      <th>infection_order</th>\n",
       "    </tr>\n",
       "  </thead>\n",
       "  <tbody>\n",
       "    <tr>\n",
       "      <th>0</th>\n",
       "      <td>1</td>\n",
       "      <td>female</td>\n",
       "      <td>China</td>\n",
       "      <td>filtered at airport</td>\n",
       "      <td>1984.0</td>\n",
       "      <td>released</td>\n",
       "      <td>2020-01-20</td>\n",
       "      <td>2020-02-06</td>\n",
       "      <td>NaT</td>\n",
       "      <td>visit to Wuhan</td>\n",
       "      <td>45.0</td>\n",
       "      <td>NaN</td>\n",
       "      <td>NaN</td>\n",
       "      <td>1.0</td>\n",
       "    </tr>\n",
       "    <tr>\n",
       "      <th>1</th>\n",
       "      <td>2</td>\n",
       "      <td>male</td>\n",
       "      <td>Korea</td>\n",
       "      <td>filtered at airport</td>\n",
       "      <td>1964.0</td>\n",
       "      <td>released</td>\n",
       "      <td>2020-01-24</td>\n",
       "      <td>2020-02-05</td>\n",
       "      <td>NaT</td>\n",
       "      <td>visit to Wuhan</td>\n",
       "      <td>75.0</td>\n",
       "      <td>NaN</td>\n",
       "      <td>NaN</td>\n",
       "      <td>1.0</td>\n",
       "    </tr>\n",
       "    <tr>\n",
       "      <th>2</th>\n",
       "      <td>3</td>\n",
       "      <td>male</td>\n",
       "      <td>Korea</td>\n",
       "      <td>Capital</td>\n",
       "      <td>1966.0</td>\n",
       "      <td>released</td>\n",
       "      <td>2020-01-26</td>\n",
       "      <td>2020-02-12</td>\n",
       "      <td>NaT</td>\n",
       "      <td>visit to Wuhan</td>\n",
       "      <td>16.0</td>\n",
       "      <td>NaN</td>\n",
       "      <td>NaN</td>\n",
       "      <td>1.0</td>\n",
       "    </tr>\n",
       "    <tr>\n",
       "      <th>3</th>\n",
       "      <td>4</td>\n",
       "      <td>male</td>\n",
       "      <td>Korea</td>\n",
       "      <td>Capital</td>\n",
       "      <td>1964.0</td>\n",
       "      <td>released</td>\n",
       "      <td>2020-01-27</td>\n",
       "      <td>2020-02-09</td>\n",
       "      <td>NaT</td>\n",
       "      <td>visit to Wuhan</td>\n",
       "      <td>95.0</td>\n",
       "      <td>NaN</td>\n",
       "      <td>NaN</td>\n",
       "      <td>1.0</td>\n",
       "    </tr>\n",
       "    <tr>\n",
       "      <th>4</th>\n",
       "      <td>5</td>\n",
       "      <td>male</td>\n",
       "      <td>Korea</td>\n",
       "      <td>Capital</td>\n",
       "      <td>1987.0</td>\n",
       "      <td>isolated</td>\n",
       "      <td>2020-01-30</td>\n",
       "      <td>NaT</td>\n",
       "      <td>NaT</td>\n",
       "      <td>visit to Wuhan</td>\n",
       "      <td>31.0</td>\n",
       "      <td>NaN</td>\n",
       "      <td>NaN</td>\n",
       "      <td>1.0</td>\n",
       "    </tr>\n",
       "  </tbody>\n",
       "</table>\n",
       "</div>"
      ],
      "text/plain": [
       "  id     sex country               region  birth_year     state  \\\n",
       "0  1  female   China  filtered at airport      1984.0  released   \n",
       "1  2    male   Korea  filtered at airport      1964.0  released   \n",
       "2  3    male   Korea              Capital      1966.0  released   \n",
       "3  4    male   Korea              Capital      1964.0  released   \n",
       "4  5    male   Korea              Capital      1987.0  isolated   \n",
       "\n",
       "  confirmed_date released_date deceased_date infection_reason  contact_number  \\\n",
       "0     2020-01-20    2020-02-06           NaT   visit to Wuhan            45.0   \n",
       "1     2020-01-24    2020-02-05           NaT   visit to Wuhan            75.0   \n",
       "2     2020-01-26    2020-02-12           NaT   visit to Wuhan            16.0   \n",
       "3     2020-01-27    2020-02-09           NaT   visit to Wuhan            95.0   \n",
       "4     2020-01-30           NaT           NaT   visit to Wuhan            31.0   \n",
       "\n",
       "  group  infected_by  infection_order  \n",
       "0   NaN          NaN              1.0  \n",
       "1   NaN          NaN              1.0  \n",
       "2   NaN          NaN              1.0  \n",
       "3   NaN          NaN              1.0  \n",
       "4   NaN          NaN              1.0  "
      ]
     },
     "execution_count": 39,
     "metadata": {},
     "output_type": "execute_result"
    }
   ],
   "source": [
    "col = ['id',\n",
    "       'sex',\n",
    "       'country',\n",
    "       'region',\n",
    "       'birth_year',\n",
    "       'state',\n",
    "       'confirmed_date',\n",
    "       'released_date',\n",
    "       'deceased_date',\n",
    "       'infection_reason',\n",
    "       'contact_number',\n",
    "       'group',\n",
    "       'infected_by',\n",
    "       'infection_order']\n",
    "\n",
    "df = patient[col].copy() \n",
    "df.head()"
   ]
  }
 ],
 "metadata": {
  "kernelspec": {
   "display_name": "Python 3",
   "language": "python",
   "name": "python3"
  },
  "language_info": {
   "codemirror_mode": {
    "name": "ipython",
    "version": 3
   },
   "file_extension": ".py",
   "mimetype": "text/x-python",
   "name": "python",
   "nbconvert_exporter": "python",
   "pygments_lexer": "ipython3",
   "version": "3.7.3"
  }
 },
 "nbformat": 4,
 "nbformat_minor": 2
}
